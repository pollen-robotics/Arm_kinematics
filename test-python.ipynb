{
 "cells": [
  {
   "cell_type": "code",
   "execution_count": 1,
   "id": "350f3f6d",
   "metadata": {},
   "outputs": [],
   "source": [
    "import numpy as np\n",
    "from ctypes import cdll, c_double, c_int, windll"
   ]
  },
  {
   "cell_type": "code",
   "execution_count": 2,
   "id": "f1d6102f",
   "metadata": {},
   "outputs": [
    {
     "name": "stdout",
     "output_type": "stream",
     "text": [
      "C:\\Users\\gaell\\Desktop\\Reachy2021-dev\\Arm_kinematics\\build\n"
     ]
    }
   ],
   "source": [
    "cd build/"
   ]
  },
  {
   "cell_type": "code",
   "execution_count": 3,
   "id": "607e4ef9",
   "metadata": {},
   "outputs": [
    {
     "name": "stdout",
     "output_type": "stream",
     "text": [
      "C:\\Users\\gaell\\Desktop\\Reachy2021-dev\\Arm_kinematics\\build\\Debug\n"
     ]
    }
   ],
   "source": [
    "cd Debug/"
   ]
  },
  {
   "cell_type": "code",
   "execution_count": 4,
   "id": "b6cfcc1b",
   "metadata": {},
   "outputs": [],
   "source": [
    "lib = windll.LoadLibrary('Arm_kinematics.dll')"
   ]
  },
  {
   "cell_type": "code",
   "execution_count": null,
   "id": "ed8f7ade",
   "metadata": {},
   "outputs": [],
   "source": []
  },
  {
   "cell_type": "code",
   "execution_count": null,
   "id": "1242bf1f",
   "metadata": {},
   "outputs": [],
   "source": []
  },
  {
   "cell_type": "code",
   "execution_count": 5,
   "id": "6f71ac3a",
   "metadata": {},
   "outputs": [],
   "source": [
    "lib.forward.restype = c_int\n",
    "lib.forward.argtypes = [\n",
    "    np.ctypeslib.ndpointer(dtype=np.double), c_int, \n",
    "    np.ctypeslib.ndpointer(dtype=np.double),\n",
    "]\n",
    "\n",
    "lib.inverse.restype = c_int\n",
    "lib.inverse.argtypes = [\n",
    "    np.ctypeslib.ndpointer(dtype=np.double), \n",
    "    np.ctypeslib.ndpointer(dtype=np.double),\n",
    "]"
   ]
  },
  {
   "cell_type": "code",
   "execution_count": 6,
   "id": "d6cf4d7c",
   "metadata": {},
   "outputs": [
    {
     "data": {
      "text/plain": [
       "6"
      ]
     },
     "execution_count": 6,
     "metadata": {},
     "output_type": "execute_result"
    }
   ],
   "source": [
    "lib.setup()"
   ]
  },
  {
   "cell_type": "code",
   "execution_count": 7,
   "id": "e26bda6a",
   "metadata": {},
   "outputs": [
    {
     "data": {
      "text/plain": [
       "0"
      ]
     },
     "execution_count": 7,
     "metadata": {},
     "output_type": "execute_result"
    }
   ],
   "source": [
    "q = np.array((0, 0.3, 0, 0.2, 0.1, 0.4), dtype=np.double)\n",
    "M = np.zeros(16, dtype=np.double)\n",
    "\n",
    "lib.forward(q, len(q), M)"
   ]
  },
  {
   "cell_type": "code",
   "execution_count": 8,
   "id": "06f2b14c",
   "metadata": {},
   "outputs": [
    {
     "data": {
      "text/plain": [
       "array([[ 0.75699103, -0.5261131 , -0.3875172 ,  0.304302  ],\n",
       "       [ 0.5637283 ,  0.82572212, -0.01983384, -0.15005   ],\n",
       "       [ 0.33041637, -0.20344038,  0.92164909,  0.54611898],\n",
       "       [ 0.        ,  0.        ,  0.        ,  1.        ]])"
      ]
     },
     "execution_count": 8,
     "metadata": {},
     "output_type": "execute_result"
    }
   ],
   "source": [
    "M.reshape((4, 4))"
   ]
  },
  {
   "cell_type": "code",
   "execution_count": 9,
   "id": "43798a19",
   "metadata": {},
   "outputs": [],
   "source": [
    "q2 = np.zeros(6, dtype=np.double)"
   ]
  },
  {
   "cell_type": "code",
   "execution_count": 10,
   "id": "ab5bf9e4",
   "metadata": {},
   "outputs": [
    {
     "data": {
      "text/plain": [
       "0"
      ]
     },
     "execution_count": 10,
     "metadata": {},
     "output_type": "execute_result"
    }
   ],
   "source": [
    "lib.inverse(M, q2)"
   ]
  },
  {
   "cell_type": "code",
   "execution_count": 11,
   "id": "c7e72cdc",
   "metadata": {},
   "outputs": [
    {
     "data": {
      "text/plain": [
       "array([-5.20365259e-08, -5.50063350e-09,  8.83624093e-09,  1.80381303e-03,\n",
       "       -9.15383841e-06, -1.80376397e-03])"
      ]
     },
     "execution_count": 11,
     "metadata": {},
     "output_type": "execute_result"
    }
   ],
   "source": [
    "q2 - q"
   ]
  },
  {
   "cell_type": "code",
   "execution_count": null,
   "id": "43460ef4",
   "metadata": {},
   "outputs": [],
   "source": []
  }
 ],
 "metadata": {
  "kernelspec": {
   "display_name": "Python 3 (ipykernel)",
   "language": "python",
   "name": "python3"
  },
  "language_info": {
   "codemirror_mode": {
    "name": "ipython",
    "version": 3
   },
   "file_extension": ".py",
   "mimetype": "text/x-python",
   "name": "python",
   "nbconvert_exporter": "python",
   "pygments_lexer": "ipython3",
   "version": "3.9.7"
  }
 },
 "nbformat": 4,
 "nbformat_minor": 5
}
